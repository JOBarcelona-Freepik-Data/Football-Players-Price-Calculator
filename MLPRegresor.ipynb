{
 "cells": [
  {
   "cell_type": "code",
   "execution_count": 8,
   "metadata": {},
   "outputs": [],
   "source": [
    "import numpy as np\n",
    "import pandas as pd\n",
    "\n",
    "from sklearn.neural_network import MLPRegressor\n",
    "from sklearn.datasets import make_regression\n",
    "from sklearn.model_selection import train_test_split\n",
    "from sklearn import preprocessing\n",
    "from sklearn.metrics import classification_report\n",
    "\n",
    "import matplotlib.pyplot as plt\n",
    "import matplotlib.font_manager\n",
    "import seaborn as sns"
   ]
  },
  {
   "cell_type": "code",
   "execution_count": 2,
   "metadata": {},
   "outputs": [],
   "source": [
    "jugadores=pd.read_csv('train.csv')\n",
    "\n",
    "train_labels=['red_card_continent', 'age', 'nation', 'league', 'team',\n",
    "       'goals_selection', 'selections_nation', 'position', 'price',\n",
    "       'goal_champ', 'assist_champ', 'own_goal_champ', 'yellow_card_champ',\n",
    "       'second_yellow_card_champ', 'red_card_champ', 'goal_cup', 'assist_cup',\n",
    "       'own_goal_cup', 'yellow_card_cup', 'second_yellow_card_cup',\n",
    "       'red_card_cup', 'goal_continent', 'assist_continent',\n",
    "       'own_goal_continent', 'yellow_card_continent',\n",
    "       'second_yellow_card_continent']\n",
    "jugadores=jugadores[train_labels]"
   ]
  },
  {
   "cell_type": "code",
   "execution_count": 3,
   "metadata": {},
   "outputs": [],
   "source": [
    "text_labels=[ 'nation', 'league', 'team',\n",
    "        'position']\n",
    "le = preprocessing.LabelEncoder()\n",
    "jugadores[text_labels] = jugadores[text_labels].apply(le.fit_transform)"
   ]
  },
  {
   "cell_type": "code",
   "execution_count": 6,
   "metadata": {},
   "outputs": [],
   "source": [
    "x_labels=['red_card_continent', 'age', 'nation', 'league', 'team',\n",
    "            'goals_selection', 'selections_nation', 'position',\n",
    "          'goal_champ', 'assist_champ', 'own_goal_champ', 'yellow_card_champ',\n",
    "          'second_yellow_card_champ', 'red_card_champ', 'goal_cup', 'assist_cup',\n",
    "          'own_goal_cup', 'yellow_card_cup', 'second_yellow_card_cup',\n",
    "          'red_card_cup', 'goal_continent', 'assist_continent',\n",
    "          'own_goal_continent', 'yellow_card_continent',\n",
    "          'second_yellow_card_continent']\n",
    "X=jugadores[x_labels]\n",
    "y=jugadores['price']\n",
    "X_train, X_test, y_train, y_test = train_test_split(X, y,random_state=1)"
   ]
  },
  {
   "cell_type": "code",
   "execution_count": 10,
   "metadata": {},
   "outputs": [],
   "source": [
    "regr = MLPRegressor(random_state=1, max_iter=500).fit(X_train, y_train)\n",
    "y_pred=regr.predict(X_test)\n",
    "regr.score(X_test, y_test)\n",
    "\n"
   ]
  }
 ],
 "metadata": {
  "interpreter": {
   "hash": "3132f7a729275460905ce50538cd1987892ffc1102ba7dba42e211caddde65d4"
  },
  "kernelspec": {
   "display_name": "Python 3.8.11 ('tfg')",
   "language": "python",
   "name": "python3"
  },
  "language_info": {
   "codemirror_mode": {
    "name": "ipython",
    "version": 3
   },
   "file_extension": ".py",
   "mimetype": "text/x-python",
   "name": "python",
   "nbconvert_exporter": "python",
   "pygments_lexer": "ipython3",
   "version": "3.8.11"
  },
  "orig_nbformat": 4
 },
 "nbformat": 4,
 "nbformat_minor": 2
}
