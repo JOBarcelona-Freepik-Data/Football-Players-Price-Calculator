{
 "cells": [
  {
   "cell_type": "code",
   "execution_count": 1,
   "metadata": {},
   "outputs": [],
   "source": [
    "import numpy as np\n",
    "import pandas as pd\n",
    "from category_encoders import *\n",
    "\n",
    "from sklearn.ensemble import RandomForestRegressor\n",
    "from sklearn.datasets import make_regression\n",
    "from sklearn.ensemble import GradientBoostingRegressor\n",
    "from sklearn.pipeline import make_pipeline\n",
    "from sklearn.compose import make_column_transformer\n",
    "from sklearn.model_selection import train_test_split\n",
    "from sklearn.model_selection import train_test_split, cross_validate, cross_val_score\n",
    "from sklearn import preprocessing\n",
    "from sklearn.metrics import classification_report\n",
    "from sklearn.metrics import mean_squared_error\n",
    "\n",
    "import matplotlib.pyplot as plt\n",
    "import matplotlib.font_manager\n",
    "import seaborn as sns"
   ]
  },
  {
   "cell_type": "code",
   "execution_count": 2,
   "metadata": {},
   "outputs": [],
   "source": [
    "jugadores=pd.read_csv('train.csv')\n",
    "\n",
    "train_labels=['red_card_continent', 'age', 'nation', 'league', 'team',\n",
    "       'goals_selection', 'selections_nation', 'position', 'price',\n",
    "       'goal_champ', 'assist_champ', 'own_goal_champ', 'yellow_card_champ',\n",
    "       'second_yellow_card_champ', 'red_card_champ', 'goal_cup', 'assist_cup',\n",
    "       'own_goal_cup', 'yellow_card_cup', 'second_yellow_card_cup',\n",
    "       'red_card_cup', 'goal_continent', 'assist_continent',\n",
    "       'own_goal_continent', 'yellow_card_continent',\n",
    "       'second_yellow_card_continent']\n",
    "\n",
    "train_labels_PC3=['red_card_continent', 'age','nation', 'league',\n",
    "       'goals_selection', 'selections_nation', 'price',\n",
    "       'goal_champ', 'assist_champ', 'yellow_card_champ',\n",
    "       'second_yellow_card_champ', 'red_card_champ', 'goal_cup', 'assist_cup',\n",
    "       'yellow_card_cup', 'second_yellow_card_cup',\n",
    "       'red_card_cup', 'goal_continent', 'assist_continent',\n",
    "       'own_goal_continent', 'yellow_card_continent',\n",
    "       'second_yellow_card_continent']\n",
    "jugadores=jugadores[train_labels_PC3]"
   ]
  },
  {
   "cell_type": "code",
   "execution_count": 4,
   "metadata": {},
   "outputs": [],
   "source": [
    "data_path = \"train.csv\"\n",
    "\n",
    "data = pd.read_csv(data_path)\n",
    "\n",
    "X = data.copy()\n",
    "y = X.pop(\"price\")\n",
    "\n",
    "target_encoder_columns = [\"nation\", \"league\", \"team\",\"position\"]\n",
    "one_hot_encoder_columns = [ ]\n",
    "\n",
    "passthrough_columns = X.columns.to_list()\n",
    "for col in [*target_encoder_columns, *one_hot_encoder_columns]:\n",
    "    passthrough_columns.remove(col)"
   ]
  },
  {
   "cell_type": "code",
   "execution_count": 6,
   "metadata": {},
   "outputs": [
    {
     "name": "stdout",
     "output_type": "stream",
     "text": [
      "r2:  0.5871069037229322\n"
     ]
    }
   ],
   "source": [
    "transformer = make_column_transformer(\n",
    "    (TargetEncoder(), target_encoder_columns),\n",
    "    (OneHotEncoder(handle_unknown=\"ignore\"), one_hot_encoder_columns),\n",
    "    (\"passthrough\", passthrough_columns)\n",
    ")\n",
    "\n",
    "pipeline = make_pipeline(\n",
    "    transformer,\n",
    "    RandomForestRegressor(n_estimators=800, max_depth=1000, random_state=0)\n",
    ")\n",
    "cv_scores = cross_val_score(pipeline, X, y)\n",
    "\n",
    "X_train, X_test, y_train, y_test = train_test_split(X, y,test_size=0.1,random_state=0)\n",
    "pipeline.fit(X_train,y_train)\n",
    "y_pred=pipeline.predict(X_test)\n",
    "\n",
    "print(\"r2: \", cv_scores.mean())\n"
   ]
  },
  {
   "cell_type": "code",
   "execution_count": 3,
   "metadata": {},
   "outputs": [],
   "source": [
    "text_labels=[ 'nation', 'league', 'team',\n",
    "        'position']\n",
    "text_labels_PC3=[ 'nation', 'league']\n",
    "le = preprocessing.LabelEncoder()\n",
    "jugadores[text_labels_PC3] = jugadores[text_labels_PC3].apply(le.fit_transform)\n",
    "normalized_df=(jugadores-jugadores.min())/(jugadores.max()-jugadores.min())"
   ]
  },
  {
   "cell_type": "code",
   "execution_count": 4,
   "metadata": {},
   "outputs": [],
   "source": [
    "x_labels=['red_card_continent', 'age', 'nation', 'league', 'team',\n",
    "            'goals_selection', 'selections_nation', 'position',\n",
    "          'goal_champ', 'assist_champ', 'own_goal_champ', 'yellow_card_champ',\n",
    "          'second_yellow_card_champ', 'red_card_champ', 'goal_cup', 'assist_cup',\n",
    "          'own_goal_cup', 'yellow_card_cup', 'second_yellow_card_cup',\n",
    "          'red_card_cup', 'goal_continent', 'assist_continent',\n",
    "          'own_goal_continent', 'yellow_card_continent',\n",
    "          'second_yellow_card_continent']\n",
    "x_labels_PC3=['red_card_continent', 'age','nation', 'league',\n",
    "       'goals_selection', 'selections_nation',\n",
    "       'goal_champ', 'assist_champ', 'yellow_card_champ',\n",
    "       'second_yellow_card_champ', 'red_card_champ', 'goal_cup', 'assist_cup',\n",
    "       'yellow_card_cup', 'second_yellow_card_cup',\n",
    "       'red_card_cup', 'goal_continent', 'assist_continent',\n",
    "       'own_goal_continent', 'yellow_card_continent',\n",
    "       'second_yellow_card_continent']\n",
    "X=jugadores[x_labels_PC3]\n",
    "y=jugadores['price']\n",
    "X_train, X_test, y_train, y_test = train_test_split(X, y,test_size=0.1,random_state=0)"
   ]
  },
  {
   "cell_type": "code",
   "execution_count": 5,
   "metadata": {},
   "outputs": [
    {
     "data": {
      "text/plain": [
       "0.5518376023607847"
      ]
     },
     "execution_count": 5,
     "metadata": {},
     "output_type": "execute_result"
    }
   ],
   "source": [
    "model = RandomForestRegressor(n_estimators=600, max_depth=1000, random_state=0)\n",
    "\n",
    "# Train the model using the training sets\n",
    "model.fit(X_train,y_train)\n",
    "\n",
    "#Predict Output\n",
    "\n",
    "model.score(X_test,y_test)"
   ]
  },
  {
   "cell_type": "code",
   "execution_count": 6,
   "metadata": {},
   "outputs": [
    {
     "name": "stdout",
     "output_type": "stream",
     "text": [
      "27212896513762.594\n"
     ]
    }
   ],
   "source": [
    "y_pred=model.predict(X_test)\n",
    "print (mean_squared_error(y_test, y_pred))"
   ]
  },
  {
   "cell_type": "code",
   "execution_count": 7,
   "metadata": {},
   "outputs": [
    {
     "name": "stdout",
     "output_type": "stream",
     "text": [
      "5216598.174458389\n"
     ]
    }
   ],
   "source": [
    "print(mean_squared_error(y_test, y_pred, squared=False))"
   ]
  }
 ],
 "metadata": {
  "interpreter": {
   "hash": "3132f7a729275460905ce50538cd1987892ffc1102ba7dba42e211caddde65d4"
  },
  "kernelspec": {
   "display_name": "Python 3.8.11 ('tfg')",
   "language": "python",
   "name": "python3"
  },
  "language_info": {
   "codemirror_mode": {
    "name": "ipython",
    "version": 3
   },
   "file_extension": ".py",
   "mimetype": "text/x-python",
   "name": "python",
   "nbconvert_exporter": "python",
   "pygments_lexer": "ipython3",
   "version": "3.8.11"
  },
  "orig_nbformat": 4
 },
 "nbformat": 4,
 "nbformat_minor": 2
}
