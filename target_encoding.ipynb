{
 "cells": [
  {
   "cell_type": "code",
   "execution_count": 5,
   "metadata": {},
   "outputs": [],
   "source": [
    "import pandas as pd\n",
    "import seaborn as sns\n",
    "import matplotlib.pyplot as plt\n",
    "import numpy as np\n",
    "from category_encoders import *\n",
    "\n",
    "from sklearn.model_selection import train_test_split, cross_validate, cross_val_score\n",
    "from sklearn.ensemble import GradientBoostingRegressor\n",
    "from sklearn.pipeline import make_pipeline, make_union"
   ]
  },
  {
   "cell_type": "code",
   "execution_count": 3,
   "metadata": {},
   "outputs": [],
   "source": [
    "data_path = \"train.csv\"\n",
    "\n",
    "data = pd.read_csv(data_path)\n",
    "\n",
    "X = data.copy()\n",
    "y = X.pop(\"price\")\n",
    "\n",
    "target_encoder_columns = [\"nation\", \"league\", \"team\"]\n",
    "one_hot_encoder_columns = [\"position\"]\n",
    "passthrough_columns = X.columns.to_list()\n",
    "for col in [*target_encoder_columns, *one_hot_encoder_columns]:\n",
    "    passthrough_columns.remove(col)"
   ]
  },
  {
   "cell_type": "code",
   "execution_count": 4,
   "metadata": {},
   "outputs": [
    {
     "name": "stdout",
     "output_type": "stream",
     "text": [
      "r2:  0.5956247230400554\n"
     ]
    }
   ],
   "source": [
    "pipeline = make_pipeline(\n",
    "    TargetEncoder(),\n",
    "    GradientBoostingRegressor(n_estimators=300)\n",
    ")\n",
    "\n",
    "cv_scores = cross_val_score(pipeline, X, y)\n",
    "print(\"r2: \", cv_scores.mean())"
   ]
  },
  {
   "cell_type": "code",
   "execution_count": null,
   "metadata": {},
   "outputs": [],
   "source": []
  }
 ],
 "metadata": {
  "interpreter": {
   "hash": "31f2aee4e71d21fbe5cf8b01ff0e069b9275f58929596ceb00d14d90e3e16cd6"
  },
  "kernelspec": {
   "display_name": "Python 3.8.10 64-bit",
   "language": "python",
   "name": "python3"
  },
  "language_info": {
   "codemirror_mode": {
    "name": "ipython",
    "version": 3
   },
   "file_extension": ".py",
   "mimetype": "text/x-python",
   "name": "python",
   "nbconvert_exporter": "python",
   "pygments_lexer": "ipython3",
   "version": "3.8.10"
  },
  "orig_nbformat": 4
 },
 "nbformat": 4,
 "nbformat_minor": 2
}
