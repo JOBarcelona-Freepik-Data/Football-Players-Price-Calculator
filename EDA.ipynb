{
 "cells": [
  {
   "cell_type": "markdown",
   "id": "3db83c34",
   "metadata": {},
   "source": [
    "# Exploratory Data Analysis"
   ]
  },
  {
   "cell_type": "code",
   "execution_count": 1,
   "id": "a7e62f45",
   "metadata": {
    "ExecuteTime": {
     "end_time": "2022-05-31T12:43:44.046297Z",
     "start_time": "2022-05-31T12:43:42.925101Z"
    }
   },
   "outputs": [],
   "source": [
    "#data exploration&manipulation\n",
    "import pandas as pd\n",
    "import numpy as np\n",
    "import seaborn as sns\n"
   ]
  },
  {
   "cell_type": "code",
   "execution_count": 41,
   "id": "1e191e6a",
   "metadata": {
    "ExecuteTime": {
     "end_time": "2022-05-31T14:15:24.195184Z",
     "start_time": "2022-05-31T14:15:24.145319Z"
    }
   },
   "outputs": [],
   "source": [
    "train=pd.read_csv('C:/Users/march/Downloads/Football-Players-Price-Calculator-main/train.csv')"
   ]
  },
  {
   "cell_type": "code",
   "execution_count": 42,
   "id": "6de75410",
   "metadata": {
    "ExecuteTime": {
     "end_time": "2022-05-31T14:15:24.615852Z",
     "start_time": "2022-05-31T14:15:24.520110Z"
    }
   },
   "outputs": [],
   "source": [
    "train_no_outliers=pd.read_csv('C:/Users/march/Downloads/Football-Players-Price-Calculator-main/train_no_outliers.csv')"
   ]
  },
  {
   "cell_type": "code",
   "execution_count": 44,
   "id": "63d8e25b",
   "metadata": {
    "ExecuteTime": {
     "end_time": "2022-05-31T14:15:41.772506Z",
     "start_time": "2022-05-31T14:15:41.719628Z"
    }
   },
   "outputs": [
    {
     "name": "stdout",
     "output_type": "stream",
     "text": [
      " Unnamed: 0 ----------->>> 8897\n",
      " red_card_continent ----------->>> 32\n",
      " age ----------->>> 29\n",
      " nation ----------->>> 159\n",
      " league ----------->>> 71\n",
      " team ----------->>> 1049\n",
      " goals_selection ----------->>> 37\n",
      " selections_nation ----------->>> 126\n",
      " position ----------->>> 12\n",
      " price ----------->>> 122\n",
      " goal_champ ----------->>> 133\n",
      " assist_champ ----------->>> 111\n",
      " own_goal_champ ----------->>> 6\n",
      " yellow_card_champ ----------->>> 115\n",
      " second_yellow_card_champ ----------->>> 10\n",
      " red_card_champ ----------->>> 9\n",
      " goal_cup ----------->>> 27\n",
      " assist_cup ----------->>> 22\n",
      " own_goal_cup ----------->>> 4\n",
      " yellow_card_cup ----------->>> 24\n",
      " second_yellow_card_cup ----------->>> 4\n",
      " red_card_cup ----------->>> 68\n",
      " goal_continent ----------->>> 30\n",
      " assist_continent ----------->>> 29\n",
      " own_goal_continent ----------->>> 3\n",
      " yellow_card_continent ----------->>> 26\n",
      " second_yellow_card_continent ----------->>> 72\n"
     ]
    }
   ],
   "source": [
    "#Unique valors for each feature\n",
    "\n",
    "for column in train.columns:\n",
    "    print (f\" {column} ----------->>> {train[column].nunique()}\")"
   ]
  },
  {
   "cell_type": "code",
   "execution_count": 46,
   "id": "22f0793c",
   "metadata": {
    "ExecuteTime": {
     "end_time": "2022-05-31T14:19:17.218412Z",
     "start_time": "2022-05-31T14:19:17.047266Z"
    },
    "scrolled": true
   },
   "outputs": [
    {
     "data": {
      "text/html": [
       "<iframe\n",
       "    scrolling=\"no\"\n",
       "    width=\"100%\"\n",
       "    height=\"545px\"\n",
       "    src=\"iframe_figures/figure_46.html\"\n",
       "    frameborder=\"0\"\n",
       "    allowfullscreen\n",
       "></iframe>\n"
      ]
     },
     "metadata": {},
     "output_type": "display_data"
    }
   ],
   "source": [
    "# Price distribution per age (not filtered)\n",
    "import plotly.express as px\n",
    "\n",
    "\n",
    "train_no_outliers_filtered = train.copy()\n",
    "\n",
    "# Construct the graph and style it. Further customize your graph by editing this code.\n",
    "# See Plotly Documentation for help: https://plotly.com/python/plotly-express/\n",
    "fig = px.scatter(train_no_outliers_filtered, x='age', y='price')\n",
    "fig.update_layout(\n",
    "    title='Price vs Age_With Outliers', \n",
    "    xaxis = dict(\n",
    "        rangeslider = dict(\n",
    "            visible=True, \n",
    "            thickness=0.05\n",
    "        )\n",
    "    ), \n",
    "    yaxis = dict(\n",
    "\n",
    "    ), \n",
    "    paper_bgcolor='#FFFFFF', \n",
    "    showlegend=True\n",
    ")\n",
    "fig.show(renderer=\"iframe\")\n"
   ]
  },
  {
   "cell_type": "code",
   "execution_count": 37,
   "id": "1590f015",
   "metadata": {
    "ExecuteTime": {
     "end_time": "2022-05-31T14:13:51.980031Z",
     "start_time": "2022-05-31T14:13:51.811658Z"
    },
    "scrolled": true
   },
   "outputs": [
    {
     "data": {
      "text/html": [
       "<iframe\n",
       "    scrolling=\"no\"\n",
       "    width=\"100%\"\n",
       "    height=\"545px\"\n",
       "    src=\"iframe_figures/figure_37.html\"\n",
       "    frameborder=\"0\"\n",
       "    allowfullscreen\n",
       "></iframe>\n"
      ]
     },
     "metadata": {},
     "output_type": "display_data"
    }
   ],
   "source": [
    "import plotly.express as px\n",
    "\n",
    "# Filter the dataframe so that it does not crash the browser\n",
    "train_no_outliers_filtered = train_no_outliers.copy()\n",
    "\n",
    "# Construct the graph and style it. Further customize your graph by editing this code.\n",
    "# See Plotly Documentation for help: https://plotly.com/python/plotly-express/\n",
    "fig = px.scatter(train_no_outliers_filtered, x='age', y='price')\n",
    "fig.update_layout(\n",
    "    title='Price vs Age_ Without Outliers', \n",
    "    xaxis = dict(\n",
    "        rangeslider = dict(\n",
    "            visible=True, \n",
    "            thickness=0.05\n",
    "        )\n",
    "    ), \n",
    "    yaxis = dict(\n",
    "\n",
    "    ), \n",
    "    paper_bgcolor='#FFFFFF', \n",
    "    showlegend=True\n",
    ")\n",
    "fig.show(renderer=\"iframe\")"
   ]
  },
  {
   "cell_type": "code",
   "execution_count": 45,
   "id": "1f118a08",
   "metadata": {
    "ExecuteTime": {
     "end_time": "2022-05-31T14:17:07.019379Z",
     "start_time": "2022-05-31T14:17:06.860150Z"
    }
   },
   "outputs": [
    {
     "data": {
      "text/html": [
       "<iframe\n",
       "    scrolling=\"no\"\n",
       "    width=\"100%\"\n",
       "    height=\"545px\"\n",
       "    src=\"iframe_figures/figure_45.html\"\n",
       "    frameborder=\"0\"\n",
       "    allowfullscreen\n",
       "></iframe>\n"
      ]
     },
     "metadata": {},
     "output_type": "display_data"
    }
   ],
   "source": [
    "import plotly.express as px\n",
    "\n",
    "# Filter the dataframe so that it does not crash the browser\n",
    "train_filtered = train.head(1000).copy()\n",
    "\n",
    "# Construct the graph and style it. Further customize your graph by editing this code.\n",
    "# See Plotly Documentation for help: https://plotly.com/python/plotly-express/\n",
    "fig = px.bar(train_filtered, x='position')\n",
    "fig.update_layout(\n",
    "    title='players per position', \n",
    "    xaxis = dict(\n",
    "        rangeslider = dict(\n",
    "            visible=True, \n",
    "            thickness=0.05\n",
    "        )\n",
    "    ), \n",
    "    yaxis = dict(\n",
    "\n",
    "    ), \n",
    "    barmode='group', \n",
    "    paper_bgcolor='#FFFFFF', \n",
    "    showlegend=True\n",
    ")\n",
    "fig.show(renderer=\"iframe\")"
   ]
  },
  {
   "cell_type": "code",
   "execution_count": 48,
   "id": "b99b4c3f",
   "metadata": {
    "ExecuteTime": {
     "end_time": "2022-05-31T14:25:57.502226Z",
     "start_time": "2022-05-31T14:25:57.326540Z"
    }
   },
   "outputs": [
    {
     "data": {
      "text/html": [
       "<iframe\n",
       "    scrolling=\"no\"\n",
       "    width=\"100%\"\n",
       "    height=\"545px\"\n",
       "    src=\"iframe_figures/figure_48.html\"\n",
       "    frameborder=\"0\"\n",
       "    allowfullscreen\n",
       "></iframe>\n"
      ]
     },
     "metadata": {},
     "output_type": "display_data"
    }
   ],
   "source": [
    "import plotly.express as px\n",
    "\n",
    "# Filter the dataframe so that it does not crash the browser\n",
    "train_filtered = train.copy()\n",
    "\n",
    "# Construct the graph and style it. Further customize your graph by editing this code.\n",
    "# See Plotly Documentation for help: https://plotly.com/python/plotly-express/\n",
    "fig = px.bar(train_filtered, x='red_card_champ', y='position')\n",
    "fig.update_layout(\n",
    "    title='red_card_champ vs position', \n",
    "    xaxis = dict(\n",
    "        rangeslider = dict(\n",
    "            visible=True, \n",
    "            thickness=0.05\n",
    "        )\n",
    "    ), \n",
    "    yaxis = dict(\n",
    "\n",
    "    ), \n",
    "    barmode='group', \n",
    "    paper_bgcolor='#FFFFFF', \n",
    "    showlegend=True\n",
    ")\n",
    "fig.show(renderer=\"iframe\")"
   ]
  },
  {
   "cell_type": "code",
   "execution_count": 30,
   "id": "c1b93243",
   "metadata": {
    "ExecuteTime": {
     "end_time": "2022-05-31T13:30:09.338292Z",
     "start_time": "2022-05-31T13:30:09.320341Z"
    }
   },
   "outputs": [
    {
     "data": {
      "text/plain": [
       "(8205, 28)"
      ]
     },
     "execution_count": 30,
     "metadata": {},
     "output_type": "execute_result"
    }
   ],
   "source": [
    "train_no_outliers.shape"
   ]
  },
  {
   "cell_type": "markdown",
   "id": "0e84482a",
   "metadata": {},
   "source": []
  }
 ],
 "metadata": {
  "kernelspec": {
   "display_name": "Python 3 (ipykernel)",
   "language": "python",
   "name": "python3"
  },
  "language_info": {
   "codemirror_mode": {
    "name": "ipython",
    "version": 3
   },
   "file_extension": ".py",
   "mimetype": "text/x-python",
   "name": "python",
   "nbconvert_exporter": "python",
   "pygments_lexer": "ipython3",
   "version": "3.8.13"
  },
  "latex_envs": {
   "LaTeX_envs_menu_present": true,
   "autoclose": false,
   "autocomplete": true,
   "bibliofile": "biblio.bib",
   "cite_by": "apalike",
   "current_citInitial": 1,
   "eqLabelWithNumbers": true,
   "eqNumInitial": 1,
   "hotkeys": {
    "equation": "Ctrl-E",
    "itemize": "Ctrl-I"
   },
   "labels_anchors": false,
   "latex_user_defs": false,
   "report_style_numbering": false,
   "user_envs_cfg": false
  }
 },
 "nbformat": 4,
 "nbformat_minor": 5
}
